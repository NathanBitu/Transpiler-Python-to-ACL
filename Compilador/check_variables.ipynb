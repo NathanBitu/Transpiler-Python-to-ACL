{
 "cells": [
  {
   "cell_type": "code",
   "execution_count": 66,
   "metadata": {},
   "outputs": [],
   "source": [
    "import warnings\n",
    "warnings.filterwarnings(\"ignore\")"
   ]
  },
  {
   "cell_type": "code",
   "execution_count": 67,
   "metadata": {},
   "outputs": [
    {
     "name": "stdout",
     "output_type": "stream",
     "text": [
      "position\n"
     ]
    }
   ],
   "source": [
    "import re\n",
    "\n",
    "delimiter = '\\n'\n",
    "int_regex = re.compile(r'^[0-9]+$')\n",
    "float_regex = re.compile(r'^[0-9]+\\.[0-9]+$')\n",
    "string_regex = re.compile(r'^\\\"[a-zA-Z0-9\\ ]*\\\"$')\n",
    "\n",
    "position_regex_integers = re.compile(r\"^[0-9]{0,5}$\")\n",
    "position_regex_strings = re.compile(r\"^[0-9a-zA-Z]{0,5}$\")\n",
    "\n",
    "valor = '\"OLA MUNDO\"'\n",
    "\n",
    "if string_regex.match(valor) == None:\n",
    "    print('Not a position')\n",
    "else:\n",
    "    print('position')"
   ]
  },
  {
   "cell_type": "code",
   "execution_count": 68,
   "metadata": {},
   "outputs": [],
   "source": [
    "import pandas as pd\n",
    "\n",
    "variable_table = pd.DataFrame(columns = ['label', 'type', 'value'])"
   ]
  },
  {
   "cell_type": "code",
   "execution_count": 69,
   "metadata": {},
   "outputs": [],
   "source": [
    "palavras_reservadas = ['PRINT', 'DEFINE', 'SET', 'MOVE', 'DELAY', 'OPEN', 'CLOSE']"
   ]
  },
  {
   "cell_type": "code",
   "execution_count": 70,
   "metadata": {},
   "outputs": [],
   "source": [
    "with open('ACL_program.txt', 'r', encoding='utf8') as f:\n",
    "    lines = f.readlines()\n",
    "    lista = list(map(lambda x: x.replace('\\n', ''), lines))"
   ]
  },
  {
   "cell_type": "code",
   "execution_count": 71,
   "metadata": {},
   "outputs": [],
   "source": [
    "def SET(args):\n",
    "    global variable_table\n",
    "    value = args.split('=')[1]\n",
    "    label = args.split('=')[0]\n",
    "\n",
    "    type = variable_table.loc[variable_table['label'] == label]['type'].values[0]\n",
    "\n",
    "    if type == None:\n",
    "        return 'ERRO SET'\n",
    "    \n",
    "    elif type != 'Unknown':\n",
    "        if type == 'int':\n",
    "            if int_regex.match(value) != None:\n",
    "                variable_table.at[variable_table.loc[variable_table['label'] == label].index.values[0], 'value'] = value\n",
    "                return 'SET {}={}'.format(label, value)\n",
    "            else:\n",
    "                return 'ERRO SET'\n",
    "        \n",
    "        elif type == 'float':\n",
    "            if float_regex.match(value) != None:\n",
    "                variable_table.at[variable_table.loc[variable_table['label'] == label].index.values[0], 'value'] = value\n",
    "                return 'SET {}={}'.format(label, value)\n",
    "            else:\n",
    "                return 'ERRO SET'\n",
    "\n",
    "        elif type == 'string':\n",
    "            if string_regex.match(value) != None:\n",
    "                value = value[0:10]\n",
    "                variable_table.at[variable_table.loc[variable_table['label'] == label].index.values[0], 'value'] = value\n",
    "                return 'SET {}={}'.format(label, value)\n",
    "            else:\n",
    "                return 'ERRO SET'\n",
    "\n",
    "    else:\n",
    "            if int_regex.match(value) != None:\n",
    "                variable_table.at[variable_table.loc[variable_table['label'] == label].index.values[0], 'type'] = 'int'\n",
    "                variable_table.at[variable_table.loc[variable_table['label'] == label].index.values[0], 'value'] = value\n",
    "                return 'SET {}={}'.format(label, value)\n",
    "        \n",
    "            elif float_regex.match(value) != None:\n",
    "                variable_table.at[variable_table.loc[variable_table['label'] == label].index.values[0], 'type'] = 'float'\n",
    "                variable_table.at[variable_table.loc[variable_table['label'] == label].index.values[0], 'value'] = value\n",
    "                return 'SET {}={}'.format(label, value)\n",
    "\n",
    "            elif string_regex.match(value) != None:\n",
    "                value = value[0:10]\n",
    "                variable_table.at[variable_table.loc[variable_table['label'] == label].index.values[0], 'type'] = 'string'\n",
    "                variable_table.at[variable_table.loc[variable_table['label'] == label].index.values[0], 'value'] = value\n",
    "                return 'SET {}={}'.format(label, value)\n",
    "            else:\n",
    "                return 'ERRO SET'"
   ]
  },
  {
   "cell_type": "code",
   "execution_count": 72,
   "metadata": {},
   "outputs": [],
   "source": [
    "def DEFINE(args):\n",
    "    global variable_table\n",
    "    if '=' in args:      \n",
    "        value = args.split('=')[1]\n",
    "        label = args.split('=')[0]\n",
    "        if int_regex.match(value) != None:\n",
    "            variable_table = variable_table.append(pd.DataFrame({'label':[label], 'type':['int'], 'value': None}), ignore_index= True)\n",
    "            return ['DEFINE {}'.format(label), SET(args)]\n",
    "\n",
    "        elif float_regex.match(value) != None:\n",
    "            variable_table = variable_table.append(pd.DataFrame({'label':[label], 'type':['float'], 'value': None}), ignore_index= True)\n",
    "            return ['DEFINE {}'.format(label), SET(args)]\n",
    "\n",
    "        elif string_regex.match(value) != None:\n",
    "            variable_table = variable_table.append(pd.DataFrame({'label':[label], 'type':['string'], 'value': None}), ignore_index= True)\n",
    "            return ['DEFINE {}'.format(label), SET(args)]\n",
    "        else:\n",
    "            return 'ERRO DEFINE'\n",
    "    elif args != None and type(args) == str:\n",
    "        variable_table = variable_table.append(pd.DataFrame({'label':[args], 'type':['Unknown'], 'value': None}), ignore_index= True)\n",
    "        return 'DEFINE {}'.format(args)\n",
    "        \n",
    "    else:\n",
    "        return 'ERRO DEFINE'"
   ]
  },
  {
   "cell_type": "code",
   "execution_count": 74,
   "metadata": {},
   "outputs": [],
   "source": [
    "def PRINT(args):\n",
    "    if string_regex.match(value) != None:\n",
    "        value = value[0,10]\n",
    "        return 'PRINT {}'.format(args)\n",
    "    elif variable_table.loc[variable_table['label'] == args]['label'].values[0] != None:\n",
    "        return 'PRINT {}'.format(args)\n",
    "    else:\n",
    "        return \"ERRO PRINT\"\n"
   ]
  },
  {
   "cell_type": "code",
   "execution_count": 75,
   "metadata": {},
   "outputs": [],
   "source": [
    "def MOVE(args):\n",
    "    if position_regex_integers.match(args) != None:\n",
    "        return 'MOVE {}'.format(args)\n",
    "    elif position_regex_strings.match(args) != None:\n",
    "        return 'MOVE {}'.format(args)\n",
    "    else:\n",
    "        return \"ERRO MOVE\""
   ]
  },
  {
   "cell_type": "code",
   "execution_count": 76,
   "metadata": {},
   "outputs": [
    {
     "name": "stdout",
     "output_type": "stream",
     "text": [
      "DEFINE STR=\"OLAMUNDO\"\n",
      "DEFINE INT=12\n",
      "DEFINE FLOAT=12.02\n",
      "\n",
      "DEFINE VAR\n",
      "SET VAR=25\n",
      "\n",
      "SET VAR=\"STR\"\n",
      "[['DEFINE STR', 'SET STR=\"OLAMUNDO\"'], ['DEFINE INT', 'SET INT=12'], ['DEFINE FLOAT', 'SET FLOAT=12.02'], 'DEFINE VAR', 'SET VAR=25', 'ERRO SET']\n"
     ]
    }
   ],
   "source": [
    "transpiled_code = []\n",
    "for line in lista:\n",
    "    print(line)\n",
    "    if line == '':\n",
    "        continue\n",
    "    elif line.split(' ')[0] not in palavras_reservadas:\n",
    "        transpiled_code.append('ERRO')\n",
    "        break\n",
    "        \n",
    "    else:\n",
    "        function = line.split(' ')[0]\n",
    "\n",
    "        if function == 'DEFINE':\n",
    "            retorno = DEFINE(line.split(' ')[1])\n",
    "            transpiled_code.append(retorno)\n",
    "            if retorno == 'ERRO DEFINE' or retorno == 'ERRO SET':\n",
    "                break\n",
    "\n",
    "        elif function == 'PRINT':\n",
    "            retorno = PRINT(line.split(' ')[1])\n",
    "            transpiled_code.append(retorno)\n",
    "            if retorno == 'ERRO PRINT':\n",
    "                break\n",
    "        \n",
    "        elif function == 'MOVE':\n",
    "            retorno = MOVE(line.split(' ')[1])\n",
    "            transpiled_code.append(retorno)\n",
    "            if retorno == 'ERRO MOVE':\n",
    "                break\n",
    "        elif function == 'SET':\n",
    "            retorno = SET(line.split(' ')[1])\n",
    "            transpiled_code.append(retorno)\n",
    "            if retorno == 'ERRO SET':\n",
    "                break\n",
    "\n",
    "print(transpiled_code)"
   ]
  },
  {
   "cell_type": "code",
   "execution_count": 77,
   "metadata": {},
   "outputs": [
    {
     "data": {
      "text/html": [
       "<div>\n",
       "<style scoped>\n",
       "    .dataframe tbody tr th:only-of-type {\n",
       "        vertical-align: middle;\n",
       "    }\n",
       "\n",
       "    .dataframe tbody tr th {\n",
       "        vertical-align: top;\n",
       "    }\n",
       "\n",
       "    .dataframe thead th {\n",
       "        text-align: right;\n",
       "    }\n",
       "</style>\n",
       "<table border=\"1\" class=\"dataframe\">\n",
       "  <thead>\n",
       "    <tr style=\"text-align: right;\">\n",
       "      <th></th>\n",
       "      <th>label</th>\n",
       "      <th>type</th>\n",
       "      <th>value</th>\n",
       "    </tr>\n",
       "  </thead>\n",
       "  <tbody>\n",
       "    <tr>\n",
       "      <th>0</th>\n",
       "      <td>STR</td>\n",
       "      <td>string</td>\n",
       "      <td>\"OLAMUNDO\"</td>\n",
       "    </tr>\n",
       "    <tr>\n",
       "      <th>1</th>\n",
       "      <td>INT</td>\n",
       "      <td>int</td>\n",
       "      <td>12</td>\n",
       "    </tr>\n",
       "    <tr>\n",
       "      <th>2</th>\n",
       "      <td>FLOAT</td>\n",
       "      <td>float</td>\n",
       "      <td>12.02</td>\n",
       "    </tr>\n",
       "    <tr>\n",
       "      <th>3</th>\n",
       "      <td>VAR</td>\n",
       "      <td>int</td>\n",
       "      <td>25</td>\n",
       "    </tr>\n",
       "  </tbody>\n",
       "</table>\n",
       "</div>"
      ],
      "text/plain": [
       "   label    type       value\n",
       "0    STR  string  \"OLAMUNDO\"\n",
       "1    INT     int          12\n",
       "2  FLOAT   float       12.02\n",
       "3    VAR     int          25"
      ]
     },
     "execution_count": 77,
     "metadata": {},
     "output_type": "execute_result"
    }
   ],
   "source": [
    "variable_table"
   ]
  }
 ],
 "metadata": {
  "kernelspec": {
   "display_name": "Python 3.9.7 ('teste')",
   "language": "python",
   "name": "python3"
  },
  "language_info": {
   "codemirror_mode": {
    "name": "ipython",
    "version": 3
   },
   "file_extension": ".py",
   "mimetype": "text/x-python",
   "name": "python",
   "nbconvert_exporter": "python",
   "pygments_lexer": "ipython3",
   "version": "3.9.7"
  },
  "orig_nbformat": 4,
  "vscode": {
   "interpreter": {
    "hash": "1d837b323c6ce9aa7029450ef62e0f4a09705a988ce85c449a8b7105975c596a"
   }
  }
 },
 "nbformat": 4,
 "nbformat_minor": 2
}
