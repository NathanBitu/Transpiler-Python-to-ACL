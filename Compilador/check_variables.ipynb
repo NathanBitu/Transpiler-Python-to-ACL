{
 "cells": [
  {
   "cell_type": "code",
   "execution_count": 7,
   "metadata": {},
   "outputs": [
    {
     "name": "stdout",
     "output_type": "stream",
     "text": [
      "position\n"
     ]
    }
   ],
   "source": [
    "import re\n",
    "\n",
    "delimiter = '\\n'\n",
    "int_regex = re.compile(r'^[0-9]+$')\n",
    "float_regex = re.compile(r'^[0-9]+\\.[0-9]+$')\n",
    "string_regex = re.compile(r'^\\\"[a-zA-Z0-9]\\w*\\\"$')\n",
    "\n",
    "position_regex_integers = re.compile(r\"^\\([0-9]+\\,[0-9]+\\,[0-9]+\\)$\")\n",
    "position_regex_floats = re.compile(r\"^\\([0-9]+\\.[0-9]+\\,[0-9]+\\.[0-9]+\\,[0-9]+\\.[0-9]+\\)$\")\n",
    "\n",
    "\n",
    "valor = '(20,32,45)'\n",
    "valor2 = '(20.0,32.2,45.45)'\n",
    "\n",
    "if position_regex_floats.match(valor2) == None:\n",
    "    print('Not a position')\n",
    "else:\n",
    "    print('position')"
   ]
  },
  {
   "cell_type": "code",
   "execution_count": 6,
   "metadata": {},
   "outputs": [],
   "source": [
    "palavras_reservadas = ['PRINT', 'DEFINE', 'GLOBAL', 'SET', 'MOVE', 'MOVED', 'SETP', 'DELAY', 'GET', 'OPEN', 'CLOSE']\n",
    "\n"
   ]
  },
  {
   "cell_type": "code",
   "execution_count": 44,
   "metadata": {},
   "outputs": [],
   "source": [
    "with open('ACL_program.txt', 'r') as f:\n",
    "    lines = f.readlines()\n",
    "    lista = list(map(lambda x: x.replace('\\n', ''), lines))"
   ]
  },
  {
   "cell_type": "code",
   "execution_count": 24,
   "metadata": {},
   "outputs": [],
   "source": [
    "def DEFINE(args):\n",
    "    #print('DEFINE {}'.format(args))\n",
    "    number = args.split('=')[1]\n",
    "    label = args.split('=')[0]\n",
    "\n",
    "    if int_regex.match(number) != None:\n",
    "        return 'DEFINE c {}={}'.format(label, number)\n",
    "\n",
    "    elif float_regex.match(number) != None:\n",
    "        return 'DEFINE c {}={}'.format(label, number)\n",
    "\n",
    "    elif string_regex.match(number) != None:\n",
    "        number = number[0,10]\n",
    "        return 'DEFINE c {}={}'.format(label, number)\n",
    "\n",
    "    elif position_regex_integers.match(number) != None:\n",
    "        return 'DEFINE c {}={}'.format(label, number)\n",
    "    \n",
    "    else:\n",
    "        return 'ERRO DEFINE'\n",
    "def PRINT(args):\n",
    "    print('PRINT {}'.format(args))\n",
    "def MOVE(args):\n",
    "    print('MOVE {}'.format(args))"
   ]
  },
  {
   "cell_type": "code",
   "execution_count": 45,
   "metadata": {},
   "outputs": [
    {
     "name": "stdout",
     "output_type": "stream",
     "text": [
      "DEFINE Ax=35\n",
      "Certo\n",
      "DEFINE Ay=35\n",
      "Certo\n",
      "DEFINE Az=35\n",
      "Certo\n",
      "DEFINE A=(35,35,35)\n",
      "Certo\n",
      "ERRO\n",
      "MOVE A\n",
      "Certo\n"
     ]
    }
   ],
   "source": [
    "for line in lista:\n",
    "    if line == '':\n",
    "        continue\n",
    "    elif line.split(' ')[0] not in palavras_reservadas:\n",
    "        print('ERRO')\n",
    "        \n",
    "    else:\n",
    "        function = line.split(' ')[0]\n",
    "\n",
    "        if function == 'DEFINE':\n",
    "            DEFINE(line.split(' ')[1])\n",
    "\n",
    "        elif function == 'PRINT':\n",
    "            PRINT(line.split(' ')[1])\n",
    "        \n",
    "        elif function == 'MOVE':\n",
    "            MOVE(line.split(' ')[1])\n",
    "\n",
    "\n",
    "        print('Certo')\n",
    "        #print(line)"
   ]
  },
  {
   "cell_type": "code",
   "execution_count": 32,
   "metadata": {},
   "outputs": [
    {
     "data": {
      "text/plain": [
       "['DEFINE Ax=35',\n",
       " 'DEFINE Ay=35',\n",
       " 'DEFINE Az=35',\n",
       " '',\n",
       " 'DEFINE A=(35,35,35)',\n",
       " '',\n",
       " 'A;',\n",
       " 'MOVE A']"
      ]
     },
     "execution_count": 32,
     "metadata": {},
     "output_type": "execute_result"
    }
   ],
   "source": [
    "lista"
   ]
  }
 ],
 "metadata": {
  "interpreter": {
   "hash": "b89b5cfaba6639976dc87ff2fec6d58faec662063367e2c229c520fe71072417"
  },
  "kernelspec": {
   "display_name": "Python 3.10.1 64-bit",
   "language": "python",
   "name": "python3"
  },
  "language_info": {
   "codemirror_mode": {
    "name": "ipython",
    "version": 3
   },
   "file_extension": ".py",
   "mimetype": "text/x-python",
   "name": "python",
   "nbconvert_exporter": "python",
   "pygments_lexer": "ipython3",
   "version": "3.10.1"
  },
  "orig_nbformat": 4
 },
 "nbformat": 4,
 "nbformat_minor": 2
}
