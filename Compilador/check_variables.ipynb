{
 "cells": [
  {
   "cell_type": "code",
   "execution_count": 114,
   "metadata": {},
   "outputs": [
    {
     "name": "stdout",
     "output_type": "stream",
     "text": [
      "position\n"
     ]
    }
   ],
   "source": [
    "import re\n",
    "\n",
    "delimiter = '\\n'\n",
    "int_regex = re.compile(r'^[0-9]+$')\n",
    "float_regex = re.compile(r'^[0-9]+\\.[0-9]+$')\n",
    "string_regex = re.compile(r'^[a-zA-Z0-9]*$')\n",
    "\n",
    "position_regex_integers = re.compile(r\"^[0-9]{0,5}$\")\n",
    "position_regex_strings = re.compile(r\"^[0-9a-zA-Z]{0,5}$\")\n",
    "\n",
    "valor = \"22ppaaaaaaaa\"\n",
    "\n",
    "if string_regex.match(valor) == None:\n",
    "    print('Not a position')\n",
    "else:\n",
    "    print('position')"
   ]
  },
  {
   "cell_type": "code",
   "execution_count": 115,
   "metadata": {},
   "outputs": [],
   "source": [
    "import pandas as pd\n",
    "\n",
    "variable_table = pd.DataFrame(columns = ['label', 'type', 'value'])"
   ]
  },
  {
   "cell_type": "code",
   "execution_count": 116,
   "metadata": {},
   "outputs": [],
   "source": [
    "palavras_reservadas = ['PRINT', 'DEFINE', 'GLOBAL', 'SET', 'MOVE', 'MOVED', 'SETP', 'DELAY', 'GET', 'OPEN', 'CLOSE']"
   ]
  },
  {
   "cell_type": "code",
   "execution_count": 117,
   "metadata": {},
   "outputs": [],
   "source": [
    "with open('ACL_program.txt', 'r') as f:\n",
    "    lines = f.readlines()\n",
    "    lista = list(map(lambda x: x.replace('\\n', ''), lines))"
   ]
  },
  {
   "cell_type": "code",
   "execution_count": 118,
   "metadata": {},
   "outputs": [],
   "source": [
    "def SET(args):\n",
    "    global variable_table\n",
    "    value = args.split('=')[1]\n",
    "    label = args.split('=')[0]\n",
    "\n",
    "    type = variable_table.loc[variable_table['label'] == label]['type'].values[0]\n",
    "\n",
    "    if type == None:\n",
    "        return 'ERRO SET'\n",
    "    \n",
    "    elif type != 'Unknown':\n",
    "        if type == 'int':\n",
    "            if int_regex.match(value) != None:\n",
    "                variable_table.at[variable_table.loc[variable_table['label'] == label].index.values[0], 'value'] = value\n",
    "                return 'SET {}={}'.format(label, value)\n",
    "            else:\n",
    "                return 'ERRO SET'\n",
    "        \n",
    "        elif type == 'float':\n",
    "            if float_regex.match(value) != None:\n",
    "                variable_table.at[variable_table.loc[variable_table['label'] == label].index.values[0], 'value'] = value\n",
    "                return 'SET {}={}'.format(label, value)\n",
    "            else:\n",
    "                return 'ERRO SET'\n",
    "\n",
    "        elif type == 'string':\n",
    "            if string_regex.match(value) != None:\n",
    "                value = value[0:10]\n",
    "                variable_table.at[variable_table.loc[variable_table['label'] == label].index.values[0], 'value'] = value\n",
    "                return 'SET {}={}'.format(label, value)\n",
    "            else:\n",
    "                return 'ERRO SET'\n",
    "\n",
    "    else:\n",
    "            if int_regex.match(value) != None:\n",
    "                variable_table.at[variable_table.loc[variable_table['label'] == label].index.values[0], 'type'] = 'int'\n",
    "                variable_table.at[variable_table.loc[variable_table['label'] == label].index.values[0], 'value'] = value\n",
    "                return 'SET {}={}'.format(label, value)\n",
    "        \n",
    "            elif float_regex.match(value) != None:\n",
    "                variable_table.at[variable_table.loc[variable_table['label'] == label].index.values[0], 'type'] = 'float'\n",
    "                variable_table.at[variable_table.loc[variable_table['label'] == label].index.values[0], 'value'] = value\n",
    "                return 'SET {}={}'.format(label, value)\n",
    "\n",
    "            elif string_regex.match(value) != None:\n",
    "                value = value[0:10]\n",
    "                variable_table.at[variable_table.loc[variable_table['label'] == label].index.values[0], 'type'] = 'string'\n",
    "                variable_table.at[variable_table.loc[variable_table['label'] == label].index.values[0], 'value'] = value\n",
    "                return 'SET {}={}'.format(label, value)\n",
    "            else:\n",
    "                return 'ERRO SET'"
   ]
  },
  {
   "cell_type": "code",
   "execution_count": 119,
   "metadata": {},
   "outputs": [],
   "source": [
    "def DEFINE(args):\n",
    "    global variable_table\n",
    "    if '=' in args:      \n",
    "        value = args.split('=')[1]\n",
    "        label = args.split('=')[0]\n",
    "\n",
    "        if int_regex.match(value) != None:\n",
    "            variable_table = variable_table.append(pd.DataFrame({'label':[label], 'type':['int'], 'value': None}), ignore_index= True)\n",
    "            return ['DEFINE {}'.format(label), SET(args)]\n",
    "\n",
    "        elif float_regex.match(value) != None:\n",
    "            variable_table = variable_table.append(pd.DataFrame({'label':[label], 'type':['float'], 'value': None}), ignore_index= True)\n",
    "            return ['DEFINE {}'.format(label), SET(args)]\n",
    "\n",
    "        elif string_regex.match(value) != None:\n",
    "            variable_table = variable_table.append(pd.DataFrame({'label':[label], 'type':['string'], 'value': None}), ignore_index= True)\n",
    "            return ['DEFINE {}'.format(label), SET(args)]\n",
    "        else:\n",
    "            return 'ERRO DEFINE'\n",
    "    elif args != None and type(args) == str:\n",
    "        variable_table = variable_table.append(pd.DataFrame({'label':[label], 'type':['Unknown'], 'value': None}), ignore_index= True)\n",
    "        return 'DEFINE {}'.format(label)\n",
    "        \n",
    "    else:\n",
    "        return 'ERRO DEFINE'"
   ]
  },
  {
   "cell_type": "code",
   "execution_count": 120,
   "metadata": {},
   "outputs": [],
   "source": [
    "def PRINT(args):\n",
    "    if string_regex.match(value) != None:\n",
    "        value = value[0,10]\n",
    "        return 'PRINT {}'.format(args)\n",
    "    else:\n",
    "        return \"ERRO PRINT\"\n"
   ]
  },
  {
   "cell_type": "code",
   "execution_count": 121,
   "metadata": {},
   "outputs": [],
   "source": [
    "def MOVE(args):\n",
    "    if position_regex_integers.match(args) != None:\n",
    "        return 'MOVE {}'.format(args)\n",
    "    elif position_regex_strings.match(args) != None:\n",
    "        return 'MOVE {}'.format(args)\n",
    "    else:\n",
    "        return \"ERRO MOVE\""
   ]
  },
  {
   "cell_type": "code",
   "execution_count": 122,
   "metadata": {},
   "outputs": [
    {
     "name": "stdout",
     "output_type": "stream",
     "text": [
      "DEFINE Ax=35\n",
      "DEFINE Ay=35\n",
      "DEFINE Az=35\n",
      "\n",
      "DEFINE A=(aaa,35,35)\n",
      "[['DEFINE Ax', 'SET Ax=35'], ['DEFINE Ay', 'SET Ay=35'], ['DEFINE Az', 'SET Az=35'], 'ERRO DEFINE']\n"
     ]
    },
    {
     "name": "stderr",
     "output_type": "stream",
     "text": [
      "C:\\Users\\bitun\\AppData\\Local\\Temp\\ipykernel_7380\\1527369427.py:8: FutureWarning: The frame.append method is deprecated and will be removed from pandas in a future version. Use pandas.concat instead.\n",
      "  variable_table = variable_table.append(pd.DataFrame({'label':[label], 'type':['int'], 'value': None}), ignore_index= True)\n"
     ]
    }
   ],
   "source": [
    "transpiled_code = []\n",
    "for line in lista:\n",
    "    print(line)\n",
    "    if line == '':\n",
    "        continue\n",
    "    elif line.split(' ')[0] not in palavras_reservadas:\n",
    "        transpiled_code.append('ERRO')\n",
    "        break\n",
    "        \n",
    "    else:\n",
    "        function = line.split(' ')[0]\n",
    "\n",
    "        if function == 'DEFINE':\n",
    "            retorno = DEFINE(line.split(' ')[1])\n",
    "            transpiled_code.append(retorno)\n",
    "            if retorno == 'ERRO DEFINE' or retorno == 'ERRO SET':\n",
    "                break\n",
    "\n",
    "        elif function == 'PRINT':\n",
    "            retorno = PRINT(line.split(' ')[1])\n",
    "            transpiled_code.append(retorno)\n",
    "            if retorno == 'ERRO PRINT':\n",
    "                break\n",
    "        \n",
    "        elif function == 'MOVE':\n",
    "            retorno = MOVE(line.split(' ')[1])\n",
    "            transpiled_code.append(retorno)\n",
    "            if retorno == 'ERRO MOVE':\n",
    "                break\n",
    "\n",
    "print(transpiled_code)"
   ]
  },
  {
   "cell_type": "code",
   "execution_count": null,
   "metadata": {},
   "outputs": [],
   "source": []
  }
 ],
 "metadata": {
  "kernelspec": {
   "display_name": "Python 3.9.7 ('teste')",
   "language": "python",
   "name": "python3"
  },
  "language_info": {
   "codemirror_mode": {
    "name": "ipython",
    "version": 3
   },
   "file_extension": ".py",
   "mimetype": "text/x-python",
   "name": "python",
   "nbconvert_exporter": "python",
   "pygments_lexer": "ipython3",
   "version": "3.9.7"
  },
  "orig_nbformat": 4,
  "vscode": {
   "interpreter": {
    "hash": "1d837b323c6ce9aa7029450ef62e0f4a09705a988ce85c449a8b7105975c596a"
   }
  }
 },
 "nbformat": 4,
 "nbformat_minor": 2
}
