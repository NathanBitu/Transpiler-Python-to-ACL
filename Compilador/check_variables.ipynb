{
 "cells": [
  {
   "cell_type": "code",
   "execution_count": 51,
   "metadata": {},
   "outputs": [
    {
     "name": "stdout",
     "output_type": "stream",
     "text": [
      "position\n"
     ]
    }
   ],
   "source": [
    "import re\n",
    "\n",
    "space = '\\t\\n'\n",
    "int_regex = re.compile(r'^[0-9]+$')\n",
    "float_regex = re.compile(r'^[0-9]+\\.[0-9]+$')\n",
    "string_regex = re.compile(r'^\\\"[a-zA-Z0-9]\\w*\\\"$')\n",
    "\n",
    "position_regex_integers = re.compile(r\"^\\([0-9]+\\,[0-9]+\\,[0-9]+\\)$\")\n",
    "position_regex_floats = re.compile(r\"^\\([0-9]+\\.[0-9]+\\,[0-9]+\\.[0-9]+\\,[0-9]+\\.[0-9]+\\)$\")\n",
    "\n",
    "\n",
    "valor = '(20,32,45)'\n",
    "valor2 = '(20.0,32.2,45.45)'\n",
    "\n",
    "if position_regex_floats.match(valor2) == None:\n",
    "    print('Not a position')\n",
    "else:\n",
    "    print('position')"
   ]
  }
 ],
 "metadata": {
  "interpreter": {
   "hash": "b89b5cfaba6639976dc87ff2fec6d58faec662063367e2c229c520fe71072417"
  },
  "kernelspec": {
   "display_name": "Python 3.10.1 64-bit",
   "language": "python",
   "name": "python3"
  },
  "language_info": {
   "codemirror_mode": {
    "name": "ipython",
    "version": 3
   },
   "file_extension": ".py",
   "mimetype": "text/x-python",
   "name": "python",
   "nbconvert_exporter": "python",
   "pygments_lexer": "ipython3",
   "version": "3.10.1"
  },
  "orig_nbformat": 4
 },
 "nbformat": 4,
 "nbformat_minor": 2
}
