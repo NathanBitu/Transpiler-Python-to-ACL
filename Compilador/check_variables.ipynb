{
 "cells": [
  {
   "cell_type": "code",
   "execution_count": 473,
   "metadata": {},
   "outputs": [],
   "source": [
    "import warnings\n",
    "warnings.filterwarnings(\"ignore\")"
   ]
  },
  {
   "cell_type": "markdown",
   "metadata": {},
   "source": [
    "### Regex"
   ]
  },
  {
   "cell_type": "code",
   "execution_count": 474,
   "metadata": {},
   "outputs": [],
   "source": [
    "import re\n",
    "\n",
    "delimiter = '\\n'\n",
    "int_regex = re.compile(r'^[0-9]+$')\n",
    "float_regex = re.compile(r'^[0-9]+\\.[0-9]+$')\n",
    "string_regex = re.compile(r'^\\\"[a-zA-Z0-9\\ \\_]*\\\"$')\n",
    "\n",
    "function_regex = re.compile(r'^[A-Z]+\\(\\\"{0,1}[A-Za-z0-9\\_]*\\\"{0,1}\\)$')\n",
    "\n",
    "position_regex_integers = re.compile(r\"^[0-9]{0,5}$\")\n",
    "position_regex_strings = re.compile(r\"^[0-9a-zA-Z]{0,5}$\")\n",
    "\n",
    "valor = 'DELAY('\n",
    "\n",
    "if function_regex.match(valor) != None:\n",
    "    print('Certo')"
   ]
  },
  {
   "cell_type": "markdown",
   "metadata": {},
   "source": [
    "### Tabela de Simbolos e palavras Reservadas"
   ]
  },
  {
   "cell_type": "code",
   "execution_count": 475,
   "metadata": {},
   "outputs": [],
   "source": [
    "import pandas as pd\n",
    "\n",
    "variable_table = pd.DataFrame(columns = ['label', 'type', 'value'])\n",
    "palavras_reservadas = ['PRINT', 'DEFINE', 'SET', 'MOVE', 'DELAY', 'OPEN', 'CLOSE']"
   ]
  },
  {
   "cell_type": "markdown",
   "metadata": {},
   "source": [
    "### Functions"
   ]
  },
  {
   "cell_type": "code",
   "execution_count": 476,
   "metadata": {},
   "outputs": [],
   "source": [
    "def SET(args):\n",
    "    global variable_table\n",
    "    value = args.split('=')[1]\n",
    "    label = args.split('=')[0]\n",
    "\n",
    "    type = variable_table.loc[variable_table['label'] == label]['type']#.values[0]\n",
    "\n",
    "\n",
    "    if len(type) == 0:\n",
    "        return DEFINE(args)\n",
    "    \n",
    "    type = type.values[0]\n",
    "\n",
    "    if type != 'Unknown':\n",
    "        if type == 'int':\n",
    "            if int_regex.match(value) != None:\n",
    "                variable_table.at[variable_table.loc[variable_table['label'] == label].index.values[0], 'value'] = value\n",
    "                return ['SET {}={}'.format(label, value)]\n",
    "            else:\n",
    "                return ['ERRO SET']\n",
    "        \n",
    "        elif type == 'float':\n",
    "            if float_regex.match(value) != None:\n",
    "                variable_table.at[variable_table.loc[variable_table['label'] == label].index.values[0], 'value'] = value\n",
    "                return ['SET {}={}'.format(label, value)]\n",
    "            else:\n",
    "                return ['ERRO SET']\n",
    "\n",
    "        elif type == 'string':\n",
    "            if string_regex.match(value) != None:\n",
    "                value = value.replace('\"', '')[0:10]\n",
    "                variable_table.at[variable_table.loc[variable_table['label'] == label].index.values[0], 'value'] = '\"{}\"'.format(value)\n",
    "                return []\n",
    "            else:\n",
    "                return ['ERRO SET']\n",
    "\n",
    "    else:\n",
    "            if int_regex.match(value) != None:\n",
    "                variable_table.at[variable_table.loc[variable_table['label'] == label].index.values[0], 'type'] = 'int'\n",
    "                variable_table.at[variable_table.loc[variable_table['label'] == label].index.values[0], 'value'] = value\n",
    "                return ['SET {}={}'.format(label, value)]\n",
    "        \n",
    "            elif float_regex.match(value) != None:\n",
    "                variable_table.at[variable_table.loc[variable_table['label'] == label].index.values[0], 'type'] = 'float'\n",
    "                variable_table.at[variable_table.loc[variable_table['label'] == label].index.values[0], 'value'] = value\n",
    "                return ['SET {}={}'.format(label, value)]\n",
    "\n",
    "            elif string_regex.match(value) != None:\n",
    "                value = value.replace('\"', '')[0:10]\n",
    "                variable_table.at[variable_table.loc[variable_table['label'] == label].index.values[0], 'type'] = 'string'\n",
    "                variable_table.at[variable_table.loc[variable_table['label'] == label].index.values[0], 'value'] = '\"{}\"'.format(value)\n",
    "                return []\n",
    "            else:\n",
    "                return ['ERRO SET']"
   ]
  },
  {
   "cell_type": "code",
   "execution_count": 477,
   "metadata": {},
   "outputs": [],
   "source": [
    "def DEFINE(args):\n",
    "    global variable_table\n",
    "    if '=' in args:      \n",
    "        value = args.split('=')[1]\n",
    "        label = args.split('=')[0]\n",
    "        if int_regex.match(value) != None:\n",
    "            variable_table = variable_table.append(pd.DataFrame({'label':[label], 'type':['int'], 'value': None}), ignore_index= True)\n",
    "            return ['DEFINE {}'.format(label), SET(args)]\n",
    "\n",
    "        elif float_regex.match(value) != None:\n",
    "            variable_table = variable_table.append(pd.DataFrame({'label':[label], 'type':['float'], 'value': None}), ignore_index= True)\n",
    "            return ['DEFINE {}'.format(label), SET(args)]\n",
    "\n",
    "        elif string_regex.match(value) != None:\n",
    "            variable_table = variable_table.append(pd.DataFrame({'label':[label], 'type':['string'], 'value': None}), ignore_index= True)\n",
    "            SET(args)\n",
    "            return []\n",
    "        else:\n",
    "            return ['ERRO DEFINE']\n",
    "    elif args != None and type(args) == str:\n",
    "        variable_table = variable_table.append(pd.DataFrame({'label':[args], 'type':['Unknown'], 'value': None}), ignore_index= True)\n",
    "        return ['DEFINE {}'.format(args)]\n",
    "        \n",
    "    else:\n",
    "        return ['ERRO DEFINE']"
   ]
  },
  {
   "cell_type": "code",
   "execution_count": 478,
   "metadata": {},
   "outputs": [],
   "source": [
    "def PRINT(args):\n",
    "    if string_regex.match(args) != None:\n",
    "        value = args.replace('\"', '')[0:10]\n",
    "        return 'PRINT \"{}\"'.format(value)\n",
    "    \n",
    "    value = variable_table.loc[variable_table['label'] == args]['value']\n",
    "\n",
    "    if len(value) != 0:\n",
    "        return 'PRINT {}'.format(value.values[0])\n",
    "    else:\n",
    "        return \"ERRO PRINT\"\n"
   ]
  },
  {
   "cell_type": "code",
   "execution_count": 479,
   "metadata": {},
   "outputs": [],
   "source": [
    "def MOVE(args):\n",
    "    if position_regex_integers.match(args) != None:\n",
    "        return 'MOVE {}'.format(args)\n",
    "    elif position_regex_strings.match(args) != None:\n",
    "        return 'MOVE {}'.format(args)\n",
    "    else:\n",
    "        return \"ERRO MOVE\""
   ]
  },
  {
   "cell_type": "code",
   "execution_count": 480,
   "metadata": {},
   "outputs": [],
   "source": [
    "def OPEN():\n",
    "    return 'OPEN'"
   ]
  },
  {
   "cell_type": "code",
   "execution_count": 481,
   "metadata": {},
   "outputs": [],
   "source": [
    "def CLOSE():\n",
    "    return 'CLOSE'"
   ]
  },
  {
   "cell_type": "code",
   "execution_count": 482,
   "metadata": {},
   "outputs": [],
   "source": [
    "def DELAY(args):\n",
    "    if int_regex.match(args) != None:\n",
    "        return 'DELAY {}'.format(args)\n",
    "        \n",
    "    type = variable_table.loc[variable_table['label'] == args]['type']\n",
    "    value = variable_table.loc[variable_table['label'] == args]['value']\n",
    "\n",
    "    if len(type) != 0:\n",
    "        if type.values[0] != 'int':\n",
    "            return 'ERRO DELAY'\n",
    "        else:\n",
    "            return 'DELAY {}'.format(value.values[0])\n",
    "    \n",
    "    else:\n",
    "        return 'ERRO DELAY'\n",
    "    "
   ]
  },
  {
   "cell_type": "markdown",
   "metadata": {},
   "source": [
    "### Lendo código Python e transformando em ACL"
   ]
  },
  {
   "cell_type": "code",
   "execution_count": 483,
   "metadata": {},
   "outputs": [],
   "source": [
    "with open('Python_program.txt', 'r', encoding='utf8') as f:\n",
    "    lines = f.readlines()\n",
    "    lista2 = list(map(lambda x: x.replace('\\n', ''), lines))"
   ]
  },
  {
   "cell_type": "code",
   "execution_count": 484,
   "metadata": {},
   "outputs": [
    {
     "name": "stdout",
     "output_type": "stream",
     "text": [
      "[['DELAY 500'], ['DEFINE tempo_espera', ['SET tempo_espera=45']], [], ['PRINT \"Ola_Mundo\"'], ['OPEN'], ['MOVE A34'], ['CLOSE'], ['MOVE A22'], ['MOVE A45'], ['DELAY 45'], ['PRINT \"Quase_la\"'], ['OPEN'], ['DELAY 45'], ['PRINT \"Voce_conse\"']]\n"
     ]
    }
   ],
   "source": [
    "transpiled_code = []\n",
    "\n",
    "for line in lista2:\n",
    "    if line == '':\n",
    "        continue\n",
    "    line = line.replace(' ', '')\n",
    "    if line[0] == '#':\n",
    "        continue\n",
    "    if '=' in line:\n",
    "        transpiled_code.append(SET(line))\n",
    "        if \"ERRO SET\" in transpiled_code[-1] or \"ERRO DEFINE\" in transpiled_code[-1]:\n",
    "            break\n",
    "    elif function_regex.match(line) != None:\n",
    "        func = line.split('(')[0]\n",
    "        args = line.split('(')[1]\n",
    "        args = args.split(')')[0]\n",
    "\n",
    "        if func in palavras_reservadas:\n",
    "            if func == \"OPEN\":\n",
    "                transpiled_code.append([OPEN()])\n",
    "            elif func == \"CLOSE\":\n",
    "                transpiled_code.append([CLOSE()])\n",
    "            elif func == \"MOVE\":\n",
    "                transpiled_code.append([MOVE(args)])\n",
    "                if \"ERRO MOVE\" in transpiled_code[-1]:\n",
    "                    break\n",
    "            elif func == 'PRINT':\n",
    "                transpiled_code.append([PRINT(args)])\n",
    "                if  \"ERRO PRINT\" in transpiled_code[-1]:\n",
    "                    break\n",
    "            elif func == 'DELAY':\n",
    "                transpiled_code.append([DELAY(args)])\n",
    "                if \"ERRO DELAY\" in transpiled_code[-1]:\n",
    "                    break\n",
    "        else:\n",
    "            transpiled_code.append(\"Funcao não reconhecida\")\n",
    "            break\n",
    "\n",
    "print(transpiled_code)"
   ]
  },
  {
   "cell_type": "markdown",
   "metadata": {},
   "source": [
    "### Escrevendo novo arquivo com o código ACL"
   ]
  },
  {
   "cell_type": "code",
   "execution_count": 485,
   "metadata": {},
   "outputs": [],
   "source": [
    "for i in transpiled_code[-1]:\n",
    "    if 'ERRO' in i:\n",
    "        print(i)"
   ]
  },
  {
   "cell_type": "code",
   "execution_count": 486,
   "metadata": {},
   "outputs": [],
   "source": [
    "erro = False\n",
    "for i in transpiled_code[-1]:\n",
    "    if \"ERRO\" in i:\n",
    "        with open('ACL_program.txt', 'w') as f:\n",
    "            f.write(\"{} na linha: {}\".format(i, len(transpiled_code)))\n",
    "            erro = True\n",
    "\n",
    "if not erro:\n",
    "    with open('ACL_program.txt', 'w') as f:\n",
    "        for i in transpiled_code:\n",
    "            if len(i) != 0:\n",
    "                for j in i:\n",
    "                    if type(j) == list:\n",
    "                        for k in j:\n",
    "                            f.write(k)\n",
    "                            f.write('\\n')\n",
    "                            continue\n",
    "                    else:\n",
    "                        if len(j) == 0:\n",
    "                            continue\n",
    "                        f.write(j)\n",
    "                        f.write('\\n')"
   ]
  },
  {
   "cell_type": "markdown",
   "metadata": {},
   "source": [
    "### Debugging"
   ]
  },
  {
   "cell_type": "code",
   "execution_count": 487,
   "metadata": {},
   "outputs": [
    {
     "data": {
      "text/html": [
       "<div>\n",
       "<style scoped>\n",
       "    .dataframe tbody tr th:only-of-type {\n",
       "        vertical-align: middle;\n",
       "    }\n",
       "\n",
       "    .dataframe tbody tr th {\n",
       "        vertical-align: top;\n",
       "    }\n",
       "\n",
       "    .dataframe thead th {\n",
       "        text-align: right;\n",
       "    }\n",
       "</style>\n",
       "<table border=\"1\" class=\"dataframe\">\n",
       "  <thead>\n",
       "    <tr style=\"text-align: right;\">\n",
       "      <th></th>\n",
       "      <th>label</th>\n",
       "      <th>type</th>\n",
       "      <th>value</th>\n",
       "    </tr>\n",
       "  </thead>\n",
       "  <tbody>\n",
       "    <tr>\n",
       "      <th>0</th>\n",
       "      <td>tempo_espera</td>\n",
       "      <td>int</td>\n",
       "      <td>45</td>\n",
       "    </tr>\n",
       "    <tr>\n",
       "      <th>1</th>\n",
       "      <td>valor_imprimir</td>\n",
       "      <td>string</td>\n",
       "      <td>\"Ola_Mundo\"</td>\n",
       "    </tr>\n",
       "  </tbody>\n",
       "</table>\n",
       "</div>"
      ],
      "text/plain": [
       "            label    type        value\n",
       "0    tempo_espera     int           45\n",
       "1  valor_imprimir  string  \"Ola_Mundo\""
      ]
     },
     "metadata": {},
     "output_type": "display_data"
    }
   ],
   "source": [
    "display(variable_table)"
   ]
  }
 ],
 "metadata": {
  "kernelspec": {
   "display_name": "Python 3.9.7 ('teste')",
   "language": "python",
   "name": "python3"
  },
  "language_info": {
   "codemirror_mode": {
    "name": "ipython",
    "version": 3
   },
   "file_extension": ".py",
   "mimetype": "text/x-python",
   "name": "python",
   "nbconvert_exporter": "python",
   "pygments_lexer": "ipython3",
   "version": "3.9.7"
  },
  "orig_nbformat": 4,
  "vscode": {
   "interpreter": {
    "hash": "1d837b323c6ce9aa7029450ef62e0f4a09705a988ce85c449a8b7105975c596a"
   }
  }
 },
 "nbformat": 4,
 "nbformat_minor": 2
}
